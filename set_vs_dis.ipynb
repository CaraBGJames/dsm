{
 "cells": [
  {
   "cell_type": "markdown",
   "metadata": {},
   "source": [
    "Stokes settling:\n",
    "\n",
    "$V_s = \\frac{2}{9} \\frac{gd^2\\Delta\\rho}{\\mu} $\n",
    "\n",
    "$g = 9.81 ms^{-1}$\n",
    "$\\Delta\\rho = \\rho_p - \\rho_w$\n",
    "$\\mu = $"
   ]
  },
  {
   "cell_type": "code",
   "execution_count": null,
   "metadata": {
    "vscode": {
     "languageId": "plaintext"
    }
   },
   "outputs": [],
   "source": []
  }
 ],
 "metadata": {
  "language_info": {
   "name": "python"
  },
  "orig_nbformat": 4
 },
 "nbformat": 4,
 "nbformat_minor": 2
}
