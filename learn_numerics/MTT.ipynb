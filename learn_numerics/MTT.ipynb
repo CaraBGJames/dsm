{
 "cells": [
  {
   "cell_type": "markdown",
   "metadata": {},
   "source": [
    "#### MTT (56) plume numerical solution - 3 coupled ODES\n",
    "\n",
    "1) Mass (volume)\n",
    "\n",
    "    $\\frac{dQ}{dz} = \\frac{d}{dz}(wr^2) = 2 \\alpha  w r = 2 \\alpha M^{-1/2}$\n",
    "\n",
    "2) Momentum\n",
    "\n",
    "    $\\frac{dM}{dz} = \\frac{d}{dz}(w^2r^2) = g' r^2 = g' Q^2 M^{-1}$\n",
    "\n",
    "3) Buoyancy\n",
    "\n",
    "    $\\frac{dF}{dz} = \\frac{d}{dz} (w r^2 g') = - N^2 w r^2 = -N^2 Q$"
   ]
  },
  {
   "cell_type": "code",
   "execution_count": 3,
   "metadata": {},
   "outputs": [],
   "source": [
    "import numpy as np\n",
    "import matplotlib.pyplot as plt"
   ]
  },
  {
   "cell_type": "markdown",
   "metadata": {},
   "source": [
    "Define global constants"
   ]
  },
  {
   "cell_type": "code",
   "execution_count": 4,
   "metadata": {},
   "outputs": [],
   "source": [
    "global alpha, N, g_prime\n",
    "\n",
    "alpha = 0.13 #entrainment coefficient\n",
    "N = 0.8 #density stratification\n",
    "g_prime = 0.05 #reduced gravity"
   ]
  },
  {
   "cell_type": "markdown",
   "metadata": {},
   "source": [
    "Specify initial values"
   ]
  },
  {
   "cell_type": "code",
   "execution_count": 8,
   "metadata": {},
   "outputs": [],
   "source": [
    "Q0 = 0.1\n",
    "M0 = 0.1\n",
    "F0 = 1\n",
    "\n",
    "y = np.array((Q0, M0, F0))\n",
    "\n",
    "Zmax = F0**0.25 * N**0.75\n",
    "Zmom = F0**(-0.5) * M0**0.75\n",
    "Z_int =5*Zmax\n"
   ]
  },
  {
   "cell_type": "markdown",
   "metadata": {},
   "source": [
    "Runge-Kutta 4th order and MTTodes"
   ]
  },
  {
   "cell_type": "code",
   "execution_count": 11,
   "metadata": {},
   "outputs": [],
   "source": [
    "def rk4(fxy, x0, xf, y0, N):\n",
    "    \n",
    "    # The inputs to the function are:\n",
    "    #         fxy = the name of the function containing f(x,y) (e.g. MTTodes)\n",
    "    #         xo,xf = initial and final values of the independent variable (integers or floats)\n",
    "    #         yo = initial value of dependent variable at xo (numpy array)\n",
    "    #         N = number of intervals to use between xo and xf (integer)\n",
    "\n",
    "    # The outputs to the function are:\n",
    "    #         X = numpy array containing values of the independent variable\n",
    "    #         Y = the estimated dependent variable at each value of the independent variable\n",
    "    #         --> this variable is a 1D numpy array if only one equation is solved\n",
    "    #         --> it is an M-D numpy array [y1(x) y2(x) ... ] for multiple (M) equations \n",
    "\n",
    "    #compute step size and size of output variables\n",
    "    if N < 2:\n",
    "        N = 2 #set minimum number for N\n",
    "    h = (xf - x0) / N\n",
    "    X = np.zeros((N+1, 1))\n",
    "    M = np.max(np.shape(y0))\n",
    "    Y = np.zeros((N+1, M))*1j #make complex by multiplying by 1j; this way can add complex values to this during integration\n",
    "\n",
    "    #set initial conditions\n",
    "    x = x0\n",
    "    X[0] = x\n",
    "    y = [complex(val) for val in y0]  #make complex\n",
    "    Y[0,:] = y\n",
    "    \n",
    "    #begin computational loop\n",
    "    for ii in range(N):\n",
    "        \n",
    "        k1 = np.array([h * val for val in fxy(x,y)]) #evaluate function fxy; depending on equation, k1-4 can be complex; this is why we make Y and y complex as well\n",
    "        k2 = np.array([h * val for val in fxy(x+h/2, y+k1/2)])\n",
    "        k3 = np.array([h * val for val in fxy(x+h/2, y+k2/2)])\n",
    "        k4 = np.array([h * val for val in fxy(x+h, y+k3)])\n",
    "        \n",
    "        y += (k1 + 2*k2 + 2*k3 + k4) / 6.\n",
    "        x += h\n",
    "        X[ii+1] = x\n",
    "        Y[ii+1,:] = y\n",
    "    \n",
    "    return X, Y\n",
    "\n",
    "    \n",
    "def MTTodes(t,y):\n",
    "    \n",
    "    # input:\n",
    "    #     t: float\n",
    "    #     y: numpy array with length = number of equations being solved (here = 3)\n",
    "\n",
    "    # output:\n",
    "    #     ydot: numpy array of same size as y\n",
    "    #            made of complex values because np.power(negative, fraction) returns nan, but np.power(negative, fraction, dtype = np.complex128) returns a complex value\n",
    "\n",
    "    #input y is (Q0,M0,F0)\n",
    "\n",
    "    global alpha, N, g_prime #we are bringing in constants defined in the main program.\n",
    "    Q = 2 * alpha * np.power(y[1],(-1/2), dtype = np.complex128)\n",
    "    M = g_prime * np.power(y[0],2, dtype=np.complex128) * np.power(y[0], -1, dtype=np.complex128)\n",
    "    F = - N**2 * y[0]\n",
    "\n",
    "    ydot = np.array((Q, M, F))\n",
    "    return ydot\n",
    "\n"
   ]
  },
  {
   "cell_type": "markdown",
   "metadata": {},
   "source": [
    "Call it, see if it all works..."
   ]
  },
  {
   "cell_type": "code",
   "execution_count": 12,
   "metadata": {},
   "outputs": [],
   "source": [
    "[tt,yy] = rk4(fxy = MTTodes,\n",
    "           x0 =  0,\n",
    "           xf = Z_int,\n",
    "           y0 = y,\n",
    "           N = 1000)"
   ]
  },
  {
   "cell_type": "markdown",
   "metadata": {},
   "source": [
    "Plot"
   ]
  },
  {
   "cell_type": "code",
   "execution_count": 13,
   "metadata": {},
   "outputs": [
    {
     "name": "stderr",
     "output_type": "stream",
     "text": [
      "/Users/cara/opt/miniconda3/envs/cara/lib/python3.9/site-packages/matplotlib/cbook/__init__.py:1298: ComplexWarning: Casting complex values to real discards the imaginary part\n",
      "  return np.asarray(x, float)\n",
      "/Users/cara/opt/miniconda3/envs/cara/lib/python3.9/site-packages/matplotlib/cbook/__init__.py:1298: ComplexWarning: Casting complex values to real discards the imaginary part\n",
      "  return np.asarray(x, float)\n",
      "/Users/cara/opt/miniconda3/envs/cara/lib/python3.9/site-packages/matplotlib/cbook/__init__.py:1298: ComplexWarning: Casting complex values to real discards the imaginary part\n",
      "  return np.asarray(x, float)\n"
     ]
    },
    {
     "data": {
      "image/png": "[encoded data removed]",
      "text/plain": [
       "<Figure size 432x288 with 1 Axes>"
      ]
     },
     "metadata": {
      "needs_background": "light"
     },
     "output_type": "display_data"
    }
   ],
   "source": [
    "plt.plot(tt,yy[:,0], label = 'y1')\n",
    "plt.plot(tt,yy[:,1], label = 'y2')\n",
    "plt.plot(tt, yy[:,0] + yy[:,1], label = 'sum')\n",
    "plt.xlabel('Time')\n",
    "plt.ylabel('y')\n",
    "plt.title('Coupled ODE Solution')\n",
    "plt.legend()\n",
    "\n",
    "plt.show()"
   ]
  },
  {
   "cell_type": "code",
   "execution_count": null,
   "metadata": {},
   "outputs": [],
   "source": []
  }
 ],
 "metadata": {
  "interpreter": {
   "hash": "cbf730fd0cfcf52ea7d2abe426d7ffb55482ed2d2f1ee1e9a4fbed43dc055436"
  },
  "kernelspec": {
   "display_name": "Python 3.9.12 ('cara')",
   "language": "python",
   "name": "python3"
  },
  "language_info": {
   "codemirror_mode": {
    "name": "ipython",
    "version": 3
   },
   "file_extension": ".py",
   "mimetype": "text/x-python",
   "name": "python",
   "nbconvert_exporter": "python",
   "pygments_lexer": "ipython3",
   "version": "3.9.12"
  },
  "orig_nbformat": 4
 },
 "nbformat": 4,
 "nbformat_minor": 2
}
