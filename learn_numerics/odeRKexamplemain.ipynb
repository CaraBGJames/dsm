{
 "cells": [
  {
   "cell_type": "markdown",
   "metadata": {},
   "source": [
    "This script and the accompanying functions is designed to help you learn about the numerical solution of initial value problems (ODEs).\n",
    "\n",
    "The algorithm is as follows:\n",
    "\n",
    "1. Define Equation(s) to be solved. This will be a 1st order ODE or system of ODEs. \n",
    "2. Define or input appropriate control parameters (such as the length of time for the integration and the tolerance for convergence).\n",
    "3. Define the vector of initial conditions -- value(s) of the function at time = 0\n",
    "4. Call the ODE solver\n",
    "5. Plot your results\n",
    "\n",
    "Note that typing '<function>??' at the command line is very usefl!"
   ]
  },
  {
   "cell_type": "code",
   "execution_count": 295,
   "metadata": {},
   "outputs": [],
   "source": [
    "import numpy as np\n",
    "import matplotlib.pyplot as plt"
   ]
  },
  {
   "cell_type": "markdown",
   "metadata": {},
   "source": [
    "A global variable can be passed to all called functions; 'a' and 'b' are constants in the ODE in the function 'oneode.ipynb': dy/dt = -a*y^b  \n",
    "\n",
    "NOTE: if b = 1 then this ode is linear and the analytical solution can be obtained by separation of variables (this is raddioactive decay): y(t) =exp(-at) \n",
    "\n",
    "The larger b is the more nonlinear the equations to be solved are.  In the coupled ode example the nonlinear coupling has a large effect-- Increase or decrease b from 1 with small steps (< than 1) and explore the behavior; You may have to increase the number of time steps below to achieve resolution.\n"
   ]
  },
  {
   "cell_type": "code",
   "execution_count": 296,
   "metadata": {},
   "outputs": [],
   "source": [
    "global a, b\n",
    "\n",
    "a = -1 #constant\n",
    "b = 0.8\n"
   ]
  },
  {
   "cell_type": "code",
   "execution_count": 297,
   "metadata": {},
   "outputs": [],
   "source": [
    "def rk4(fxy, x0, xf, y0, N):\n",
    "    \n",
    "    # The inputs to the function are:\n",
    "    #         fxy = the name of the function containing f(x,y) (e.g. oneode, twoode)\n",
    "    #         xo,xf = initial and final values of the independent variable (integers or floats)\n",
    "    #         yo = initial value of dependent variable at xo (numpy array)\n",
    "    #         N = number of intervals to use between xo and xf (integer)\n",
    "\n",
    "    # The outputs to the function are:\n",
    "    #         X = numpy array containing values of the independent variable\n",
    "    #         Y = the estimated dependent variable at each value of the independent variable\n",
    "    #         --> this variable is a 1D numpy array if only one equation is solved\n",
    "    #         --> it is an M-D numpy array [y1(x) y2(x) ... ] for multiple (M) equations \n",
    "\n",
    "    #compute step size and size of output variables\n",
    "    if N < 2:\n",
    "        N = 2 #set minimum number for N\n",
    "    h = (xf - x0) / N\n",
    "    X = np.zeros((N+1, 1))\n",
    "    M = np.max(np.shape(y0))\n",
    "    Y = np.zeros((N+1, M))*1j #make complex by multiplying by 1j; this way can add complex values to this during integration\n",
    "\n",
    "    #set initial conditions\n",
    "    x = x0\n",
    "    X[0] = x\n",
    "    y = [complex(val) for val in y0]  #make complex\n",
    "    Y[0,:] = y\n",
    "    \n",
    "    #begin computational loop\n",
    "    for ii in range(N):\n",
    "        \n",
    "        k1 = np.array([h * val for val in fxy(x,y)]) #evaluate function fxy; depending on equation, k1-4 can be complex; this is why we make Y and y complex as well\n",
    "        k2 = np.array([h * val for val in fxy(x+h/2, y+k1/2)])\n",
    "        k3 = np.array([h * val for val in fxy(x+h/2, y+k2/2)])\n",
    "        k4 = np.array([h * val for val in fxy(x+h, y+k3)])\n",
    "        \n",
    "        y += (k1 + 2*k2 + 2*k3 + k4) / 6.\n",
    "        x += h\n",
    "        X[ii+1] = x\n",
    "        Y[ii+1,:] = y\n",
    "    \n",
    "    return X, Y\n",
    "\n",
    "def oneode(t,y):\n",
    "    \n",
    "    # input:\n",
    "    #     t: float\n",
    "    #     y: numpy array with one value\n",
    "\n",
    "    # output:\n",
    "    #     ydot: numpy array of same size as y\n",
    "    \n",
    "    global a, b #we are bringing a defined in the main program.\n",
    "    ydot = np.array([a * y[0]**b])\n",
    "    \n",
    "    return ydot\n",
    "\n",
    "def twoodes(t,y):\n",
    "    \n",
    "    # input:\n",
    "    #     t: float\n",
    "    #     y: numpy array with length = number of equations being solved\n",
    "\n",
    "    # output:\n",
    "    #     ydot: numpy array of same size as y\n",
    "    #            made of complex values because np.power(negative, fraction) returns nan, but np.power(negative, fraction, dtype = np.complex128) returns a complex value\n",
    "\n",
    "    global a, b #we are bringing a defined in the main program.\n",
    "    ydot = np.array([a*np.power(y[1],b, dtype = np.complex128), -a*np.power(y[0],b, dtype = np.complex128)]);\n",
    "    \n",
    "    return ydot"
   ]
  },
  {
   "cell_type": "code",
   "execution_count": 298,
   "metadata": {},
   "outputs": [],
   "source": [
    "#time interval for integration\n",
    "time_min = 0\n",
    "time_max = 10\n",
    "\n",
    "#define a linearly-spaced vector with n points\n",
    "n = 1000\n",
    "timespan = -np.linspace(time_min, time_max, n)\n",
    "\n",
    "#array of initial conditions defined in the function 'oneode.ipynb'\n",
    "y0 = np.array([100.])\n",
    "\n",
    "#array of initial conditions defined in the function 'twoodes.ipynb'\n",
    "yy0 = np.array([100.,100.])\n",
    "\n"
   ]
  },
  {
   "cell_type": "code",
   "execution_count": 299,
   "metadata": {},
   "outputs": [],
   "source": [
    "[t,y] = rk4(fxy = oneode,\n",
    "           x0 =  time_min,\n",
    "           xf = time_max,\n",
    "           y0 = y0,\n",
    "           N = n)"
   ]
  },
  {
   "cell_type": "code",
   "execution_count": 300,
   "metadata": {},
   "outputs": [],
   "source": [
    "[tt,yy] = rk4(fxy = twoodes,\n",
    "           x0 =  -10,\n",
    "           xf = 0,\n",
    "           y0 = yy0,\n",
    "           N = n)"
   ]
  },
  {
   "cell_type": "code",
   "execution_count": 301,
   "metadata": {},
   "outputs": [
    {
     "name": "stderr",
     "output_type": "stream",
     "text": [
      "/Users/samanderson/anaconda3/lib/python3.7/site-packages/numpy/core/numeric.py:538: ComplexWarning: Casting complex values to real discards the imaginary part\n",
      "  return array(a, dtype, copy=False, order=order)\n"
     ]
    },
    {
     "data": {
      "image/png": "[encoded data removed]",
      "text/plain": [
       "<Figure size 432x288 with 1 Axes>"
      ]
     },
     "metadata": {
      "needs_background": "light"
     },
     "output_type": "display_data"
    }
   ],
   "source": [
    "plt.plot(t,y)\n",
    "plt.xlabel('Time')\n",
    "plt.ylabel('y')\n",
    "plt.title('One ODE Solution')\n",
    "\n",
    "plt.show()"
   ]
  },
  {
   "cell_type": "code",
   "execution_count": 302,
   "metadata": {},
   "outputs": [
    {
     "data": {
      "image/png": "[encoded data removed]",
      "text/plain": [
       "<Figure size 432x288 with 1 Axes>"
      ]
     },
     "metadata": {
      "needs_background": "light"
     },
     "output_type": "display_data"
    }
   ],
   "source": [
    "plt.plot(tt,yy[:,0], label = 'y1')\n",
    "plt.plot(tt,yy[:,1], label = 'y2')\n",
    "plt.plot(tt, yy[:,0] + yy[:,1], label = 'sum')\n",
    "plt.xlabel('Time')\n",
    "plt.ylabel('y')\n",
    "plt.title('Coupled ODE Solution')\n",
    "plt.legend()\n",
    "\n",
    "plt.show()"
   ]
  },
  {
   "cell_type": "code",
   "execution_count": null,
   "metadata": {},
   "outputs": [],
   "source": []
  }
 ],
 "metadata": {
  "kernelspec": {
   "display_name": "Python 3",
   "language": "python",
   "name": "python3"
  },
  "language_info": {
   "codemirror_mode": {
    "name": "ipython",
    "version": 3
   },
   "file_extension": ".py",
   "mimetype": "text/x-python",
   "name": "python",
   "nbconvert_exporter": "python",
   "pygments_lexer": "ipython3",
   "version": "3.7.1"
  }
 },
 "nbformat": 4,
 "nbformat_minor": 2
}
