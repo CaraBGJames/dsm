{
 "cells": [
  {
   "cell_type": "code",
   "execution_count": 1,
   "metadata": {},
   "outputs": [],
   "source": [
    "#This function contains a coupled system of 3 1st order ode solved in MTT.ipynb\n",
    "#CALL: ydot = MTTodes(t,y);  define ydot = f(t,y) for each t\n",
    "\n",
    "def MTTodes(t,y):\n",
    "    \n",
    "    # input:\n",
    "    #     t: float\n",
    "    #     y: numpy array with length = number of equations being solved (here = 3)\n",
    "\n",
    "    # output:\n",
    "    #     ydot: numpy array of same size as y\n",
    "    #            made of complex values because np.power(negative, fraction) returns nan, but np.power(negative, fraction, dtype = np.complex128) returns a complex value\n",
    "\n",
    "    #input y is (Q0,M0,F0)\n",
    "\n",
    "    global alpha, N, g_prime #we are bringing in constants defined in the main program.\n",
    "    Q = 2 * alpha * np.power(y[1],(-1/2), dtype = np.complex128)\n",
    "    M = g_prime * np.power(y[0],2, dtype=np.complex128) * np.power(y[0], -1, dtype=np.complex128)\n",
    "    F = - N**2 * y[0]\n",
    "\n",
    "    ydot = np.array((Q, M, F))\n",
    "    return ydot"
   ]
  },
  {
   "cell_type": "code",
   "execution_count": null,
   "metadata": {},
   "outputs": [],
   "source": []
  }
 ],
 "metadata": {
  "interpreter": {
   "hash": "cbf730fd0cfcf52ea7d2abe426d7ffb55482ed2d2f1ee1e9a4fbed43dc055436"
  },
  "kernelspec": {
   "display_name": "Python 3.9.12 ('cara')",
   "language": "python",
   "name": "python3"
  },
  "language_info": {
   "codemirror_mode": {
    "name": "ipython",
    "version": 3
   },
   "file_extension": ".py",
   "mimetype": "text/x-python",
   "name": "python",
   "nbconvert_exporter": "python",
   "pygments_lexer": "ipython3",
   "version": "3.9.12"
  },
  "orig_nbformat": 4
 },
 "nbformat": 4,
 "nbformat_minor": 2
}
