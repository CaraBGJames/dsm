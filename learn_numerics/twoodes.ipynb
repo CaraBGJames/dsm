{
 "cells": [
  {
   "cell_type": "code",
   "execution_count": 2,
   "metadata": {},
   "outputs": [],
   "source": [
    "#This function contains a coupled system of 2 1st order ode solved in odeexamplemain.ipynb\n",
    "#CALL: ydot = twoodes(t,y);  define ydot = f(t,y) for each t\n",
    "\n",
    "def twoodes(t,y):\n",
    "    \n",
    "    # input:\n",
    "    #     t: float\n",
    "    #     y: numpy array with length = number of equations being solved\n",
    "\n",
    "    # output:\n",
    "    #     ydot: numpy array of same size as y\n",
    "    #            made of complex values because np.power(negative, fraction) returns nan, but np.power(negative, fraction, dtype = np.complex128) returns a complex value\n",
    "\n",
    "    global a, b #we are bringing a defined in the main program.\n",
    "    ydot = np.array([a*np.power(y[1],b, dtype = np.complex128), -a*np.power(y[0],b, dtype = np.complex128)]);\n",
    "    \n",
    "    return ydot\n",
    "    "
   ]
  }
 ],
 "metadata": {
  "kernelspec": {
   "display_name": "Python 3",
   "language": "python",
   "name": "python3"
  },
  "language_info": {
   "codemirror_mode": {
    "name": "ipython",
    "version": 3
   },
   "file_extension": ".py",
   "mimetype": "text/x-python",
   "name": "python",
   "nbconvert_exporter": "python",
   "pygments_lexer": "ipython3",
   "version": "3.7.1"
  }
 },
 "nbformat": 4,
 "nbformat_minor": 2
}
