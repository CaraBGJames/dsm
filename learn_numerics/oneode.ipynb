{
 "cells": [
  {
   "cell_type": "code",
   "execution_count": 6,
   "metadata": {},
   "outputs": [],
   "source": [
    "#This function contains one 1st order ode solved in odeexamplemain.ipynb\n",
    "#CALL: ydot = oneode(t,y);  define ydot = f(t,y) for each t\n",
    "\n",
    "def oneode(t,y):\n",
    "    \n",
    "    # input:\n",
    "    #     t: float\n",
    "    #     y: numpy array with one value\n",
    "\n",
    "    # output:\n",
    "    #     ydot: numpy array of same size as y\n",
    "    \n",
    "    global a, b #we are bringing a defined in the main program.\n",
    "    ydot = np.array([a * y[0]**b])\n",
    "    \n",
    "    return ydot"
   ]
  }
 ],
 "metadata": {
  "kernelspec": {
   "display_name": "Python 3",
   "language": "python",
   "name": "python3"
  },
  "language_info": {
   "codemirror_mode": {
    "name": "ipython",
    "version": 3
   },
   "file_extension": ".py",
   "mimetype": "text/x-python",
   "name": "python",
   "nbconvert_exporter": "python",
   "pygments_lexer": "ipython3",
   "version": "3.7.1"
  }
 },
 "nbformat": 4,
 "nbformat_minor": 2
}
